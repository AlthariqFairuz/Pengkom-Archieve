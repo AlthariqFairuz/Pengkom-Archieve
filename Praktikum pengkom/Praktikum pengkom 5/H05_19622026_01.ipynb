{
 "cells": [
  {
   "cell_type": "code",
   "execution_count": 2,
   "id": "206f513b",
   "metadata": {},
   "outputs": [],
   "source": [
    "# NIM/Nama : 19622026/Muhammad Althariq Fairuz\n",
    "# Tanggal : 17-11-2022\n",
    "# Deskripsi : Menganalaisis data mahasiswa"
   ]
  },
  {
   "cell_type": "code",
   "execution_count": 3,
   "id": "17add44f",
   "metadata": {},
   "outputs": [
    {
     "data": {
      "text/html": [
       "<div>\n",
       "<style scoped>\n",
       "    .dataframe tbody tr th:only-of-type {\n",
       "        vertical-align: middle;\n",
       "    }\n",
       "\n",
       "    .dataframe tbody tr th {\n",
       "        vertical-align: top;\n",
       "    }\n",
       "\n",
       "    .dataframe thead th {\n",
       "        text-align: right;\n",
       "    }\n",
       "</style>\n",
       "<table border=\"1\" class=\"dataframe\">\n",
       "  <thead>\n",
       "    <tr style=\"text-align: right;\">\n",
       "      <th></th>\n",
       "      <th>nama</th>\n",
       "      <th>fakultas</th>\n",
       "      <th>nilai_mat</th>\n",
       "      <th>nilai_kim</th>\n",
       "      <th>nilai_fis</th>\n",
       "    </tr>\n",
       "  </thead>\n",
       "  <tbody>\n",
       "    <tr>\n",
       "      <th>0</th>\n",
       "      <td>Farhan Fathur Rahman</td>\n",
       "      <td>FMIPA</td>\n",
       "      <td>57.21</td>\n",
       "      <td>34.14</td>\n",
       "      <td>38.93</td>\n",
       "    </tr>\n",
       "    <tr>\n",
       "      <th>1</th>\n",
       "      <td>Steven Margono</td>\n",
       "      <td>FMIPA</td>\n",
       "      <td>67.43</td>\n",
       "      <td>51.50</td>\n",
       "      <td>57.20</td>\n",
       "    </tr>\n",
       "    <tr>\n",
       "      <th>2</th>\n",
       "      <td>Ryan Sentosa</td>\n",
       "      <td>SAPPK</td>\n",
       "      <td>90.62</td>\n",
       "      <td>37.38</td>\n",
       "      <td>40.73</td>\n",
       "    </tr>\n",
       "    <tr>\n",
       "      <th>3</th>\n",
       "      <td>Muhajah Babny Muslim</td>\n",
       "      <td>FMIPA</td>\n",
       "      <td>72.31</td>\n",
       "      <td>38.80</td>\n",
       "      <td>44.79</td>\n",
       "    </tr>\n",
       "    <tr>\n",
       "      <th>4</th>\n",
       "      <td>Alvin Natawiguna</td>\n",
       "      <td>FTSL</td>\n",
       "      <td>65.45</td>\n",
       "      <td>57.67</td>\n",
       "      <td>56.39</td>\n",
       "    </tr>\n",
       "  </tbody>\n",
       "</table>\n",
       "</div>"
      ],
      "text/plain": [
       "                   nama fakultas  nilai_mat  nilai_kim  nilai_fis\n",
       "0  Farhan Fathur Rahman    FMIPA      57.21      34.14      38.93\n",
       "1        Steven Margono    FMIPA      67.43      51.50      57.20\n",
       "2          Ryan Sentosa    SAPPK      90.62      37.38      40.73\n",
       "3  Muhajah Babny Muslim    FMIPA      72.31      38.80      44.79\n",
       "4      Alvin Natawiguna     FTSL      65.45      57.67      56.39"
      ]
     },
     "execution_count": 3,
     "metadata": {},
     "output_type": "execute_result"
    }
   ],
   "source": [
    "import pandas as pd\n",
    "import matplotlib.pyplot as plt\n",
    "datasiswa = pd.read_csv (\"C:\\\\Users\\\\Althariq Fairuz\\\\Documents\\\\ITB\\\\Pengkom\\\\Praktikum pengkom\\\\Praktikum pengkom 5\\\\H05.csv\")\n",
    "datasiswa.head()"
   ]
  },
  {
   "cell_type": "code",
   "execution_count": 5,
   "id": "063f7e15",
   "metadata": {},
   "outputs": [
    {
     "name": "stdout",
     "output_type": "stream",
     "text": [
      "Banyaknya data : 25675\n"
     ]
    }
   ],
   "source": [
    "# Problem 1 \n",
    "# Banyaknya data\n",
    "print('Banyaknya data :',datasiswa.size)"
   ]
  },
  {
   "cell_type": "code",
   "execution_count": 10,
   "id": "1cca0030",
   "metadata": {},
   "outputs": [
    {
     "name": "stdout",
     "output_type": "stream",
     "text": [
      "                             nama fakultas  nilai_mat  nilai_kim  nilai_fis\n",
      "0            Farhan Fathur Rahman    FMIPA      57.21      34.14      38.93\n",
      "1                  Steven Margono    FMIPA      67.43      51.50      57.20\n",
      "2                    Ryan Sentosa    SAPPK      90.62      37.38      40.73\n",
      "3            Muhajah Babny Muslim    FMIPA      72.31      38.80      44.79\n",
      "4                Alvin Natawiguna     FTSL      65.45      57.67      56.39\n",
      "5                   Sasti Safitri     FTSL      60.58      41.91      51.55\n",
      "6             Dani Yulianto Putra     FTSL      51.67      35.05      48.69\n",
      "7  Nabila Febitsukarizky Bunyamin     FTTM      71.66      67.61      69.75\n",
      "8             Ratna Siti Khodijah      FTI      73.06      59.16      59.48\n",
      "9                    Gita Partiwi     FTSL      69.57      38.84      48.17\n"
     ]
    }
   ],
   "source": [
    "# Problem 2 \n",
    "# 10 data pertama\n",
    "print(datasiswa [:10])"
   ]
  },
  {
   "cell_type": "code",
   "execution_count": 12,
   "id": "287c0b49",
   "metadata": {},
   "outputs": [
    {
     "name": "stdout",
     "output_type": "stream",
     "text": [
      "                        nama fakultas  nilai_mat  nilai_kim  nilai_fis\n",
      "50      Arief Syakur Sutedjo     FTTM      84.40      61.21      73.91\n",
      "51         Fayi Raihan Saleh    FMIPA      60.62      32.57      42.34\n",
      "52          Erna Kristiawati      FTI      67.48      46.78      52.30\n",
      "53                    Albert    SAPPK      70.27      50.10      54.01\n",
      "54  M Jazztyan Indra Pradana     STEI      53.40      43.06      60.30\n",
      "55      Moch Ginanjar Busiri    FMIPA      74.29      38.44      49.15\n",
      "56              Aisya Tamara     FITB      71.49      35.86      37.41\n",
      "57        Tyas Arum Widayati    SAPPK      68.57      37.02      53.25\n",
      "58                Arif Saleh      FTI     100.00      59.79      55.33\n",
      "59     Windy Diwita Nisaekti      FTI      67.15      57.72      54.24\n"
     ]
    }
   ],
   "source": [
    "# Problem 3\n",
    "# Data ke-50 sampai ke-60\n",
    "print(datasiswa[50:60])"
   ]
  },
  {
   "cell_type": "code",
   "execution_count": 30,
   "id": "4e5b118d",
   "metadata": {},
   "outputs": [
    {
     "data": {
      "text/plain": [
       "array(['FMIPA', 'SAPPK', 'FTSL', 'FTTM', 'FTI', 'FITB', 'STEI', 'FTMD',\n",
       "       'SITHS', 'SITHR'], dtype=object)"
      ]
     },
     "execution_count": 30,
     "metadata": {},
     "output_type": "execute_result"
    }
   ],
   "source": [
    "# Problem 4\n",
    "# Banyaknya mahasiswa tiap fakultas\n",
    "datasiswa['fakultas'].unique() #cek ada berapa macam fakultas dulu"
   ]
  },
  {
   "cell_type": "code",
   "execution_count": 32,
   "id": "023fd0ae",
   "metadata": {},
   "outputs": [
    {
     "name": "stdout",
     "output_type": "stream",
     "text": [
      "Banyaknya mahasiswa tiap fakultas adalah sebagai berikut : \n",
      "FTI      834\n",
      "STEI     777\n",
      "FTSL     660\n",
      "FMIPA    627\n",
      "FTTM     579\n",
      "FTMD     480\n",
      "FITB     403\n",
      "SAPPK    315\n",
      "SITHR    282\n",
      "SITHS    178\n",
      "Name: fakultas, dtype: int64\n"
     ]
    }
   ],
   "source": [
    "print ('Banyaknya mahasiswa tiap fakultas adalah sebagai berikut : ')\n",
    "print (datasiswa['fakultas'].value_counts())"
   ]
  },
  {
   "cell_type": "code",
   "execution_count": 31,
   "id": "6f777844",
   "metadata": {},
   "outputs": [
    {
     "data": {
      "text/plain": [
       "0.7988187423880277"
      ]
     },
     "execution_count": 31,
     "metadata": {},
     "output_type": "execute_result"
    }
   ],
   "source": [
    "# Problem 5 \n",
    "# Menentukan korelasi antara nilai fisika dan kimia\n",
    "datasiswa['nilai_fis'].corr(datasiswa['nilai_kim'])\n",
    "# Karena korelasinya mendekati 1 ,artinya nilai fisika berbanding lurus dengan nilai kimia dan jenis korelasinya adalah korelasi positif"
   ]
  },
  {
   "cell_type": "code",
   "execution_count": null,
   "id": "0b808c4e",
   "metadata": {},
   "outputs": [],
   "source": []
  }
 ],
 "metadata": {
  "kernelspec": {
   "display_name": "Python 3 (ipykernel)",
   "language": "python",
   "name": "python3"
  },
  "language_info": {
   "codemirror_mode": {
    "name": "ipython",
    "version": 3
   },
   "file_extension": ".py",
   "mimetype": "text/x-python",
   "name": "python",
   "nbconvert_exporter": "python",
   "pygments_lexer": "ipython3",
   "version": "3.9.12"
  }
 },
 "nbformat": 4,
 "nbformat_minor": 5
}
