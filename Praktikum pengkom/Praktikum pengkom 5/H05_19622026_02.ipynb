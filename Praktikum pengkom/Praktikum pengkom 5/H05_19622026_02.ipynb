{
 "cells": [
  {
   "cell_type": "code",
   "execution_count": 1,
   "id": "b3871b0d",
   "metadata": {},
   "outputs": [],
   "source": [
    "# NIM/Nama : 19622026/Muhammad Althariq Fairuz\n",
    "# Tanggal : 17-11-2022\n",
    "# Deskripsi : Menganalaisis data mahasiswa"
   ]
  },
  {
   "cell_type": "code",
   "execution_count": 2,
   "id": "65d433bb",
   "metadata": {},
   "outputs": [
    {
     "data": {
      "text/html": [
       "<div>\n",
       "<style scoped>\n",
       "    .dataframe tbody tr th:only-of-type {\n",
       "        vertical-align: middle;\n",
       "    }\n",
       "\n",
       "    .dataframe tbody tr th {\n",
       "        vertical-align: top;\n",
       "    }\n",
       "\n",
       "    .dataframe thead th {\n",
       "        text-align: right;\n",
       "    }\n",
       "</style>\n",
       "<table border=\"1\" class=\"dataframe\">\n",
       "  <thead>\n",
       "    <tr style=\"text-align: right;\">\n",
       "      <th></th>\n",
       "      <th>nama</th>\n",
       "      <th>fakultas</th>\n",
       "      <th>nilai_mat</th>\n",
       "      <th>nilai_kim</th>\n",
       "      <th>nilai_fis</th>\n",
       "    </tr>\n",
       "  </thead>\n",
       "  <tbody>\n",
       "    <tr>\n",
       "      <th>0</th>\n",
       "      <td>Farhan Fathur Rahman</td>\n",
       "      <td>FMIPA</td>\n",
       "      <td>57.21</td>\n",
       "      <td>34.14</td>\n",
       "      <td>38.93</td>\n",
       "    </tr>\n",
       "    <tr>\n",
       "      <th>1</th>\n",
       "      <td>Steven Margono</td>\n",
       "      <td>FMIPA</td>\n",
       "      <td>67.43</td>\n",
       "      <td>51.50</td>\n",
       "      <td>57.20</td>\n",
       "    </tr>\n",
       "    <tr>\n",
       "      <th>2</th>\n",
       "      <td>Ryan Sentosa</td>\n",
       "      <td>SAPPK</td>\n",
       "      <td>90.62</td>\n",
       "      <td>37.38</td>\n",
       "      <td>40.73</td>\n",
       "    </tr>\n",
       "    <tr>\n",
       "      <th>3</th>\n",
       "      <td>Muhajah Babny Muslim</td>\n",
       "      <td>FMIPA</td>\n",
       "      <td>72.31</td>\n",
       "      <td>38.80</td>\n",
       "      <td>44.79</td>\n",
       "    </tr>\n",
       "    <tr>\n",
       "      <th>4</th>\n",
       "      <td>Alvin Natawiguna</td>\n",
       "      <td>FTSL</td>\n",
       "      <td>65.45</td>\n",
       "      <td>57.67</td>\n",
       "      <td>56.39</td>\n",
       "    </tr>\n",
       "  </tbody>\n",
       "</table>\n",
       "</div>"
      ],
      "text/plain": [
       "                   nama fakultas  nilai_mat  nilai_kim  nilai_fis\n",
       "0  Farhan Fathur Rahman    FMIPA      57.21      34.14      38.93\n",
       "1        Steven Margono    FMIPA      67.43      51.50      57.20\n",
       "2          Ryan Sentosa    SAPPK      90.62      37.38      40.73\n",
       "3  Muhajah Babny Muslim    FMIPA      72.31      38.80      44.79\n",
       "4      Alvin Natawiguna     FTSL      65.45      57.67      56.39"
      ]
     },
     "execution_count": 2,
     "metadata": {},
     "output_type": "execute_result"
    }
   ],
   "source": [
    "import pandas as pd\n",
    "import matplotlib.pyplot as plt\n",
    "datasiswa = pd.read_csv (\"C:\\\\Users\\\\Althariq Fairuz\\\\Documents\\\\ITB\\\\Pengkom\\\\Praktikum pengkom\\\\Praktikum pengkom 5\\\\H05.csv\")\n",
    "datasiswa.head()"
   ]
  },
  {
   "cell_type": "code",
   "execution_count": 6,
   "id": "33c55f66",
   "metadata": {},
   "outputs": [
    {
     "name": "stdout",
     "output_type": "stream",
     "text": [
      "          nama fakultas  nilai_mat  nilai_kim  nilai_fis\n",
      "3513  Tuan Leo     STEI      96.78      62.23      30.53\n"
     ]
    }
   ],
   "source": [
    "# Problem 1\n",
    "# Nilai MaFiKi milik tuan leo\n",
    "dataleo = datasiswa.loc[datasiswa['nama']== 'Tuan Leo']\n",
    "print(dataleo)"
   ]
  },
  {
   "cell_type": "code",
   "execution_count": 3,
   "id": "1c874cd8",
   "metadata": {},
   "outputs": [
    {
     "data": {
      "text/plain": [
       "nama         Yuniar Fazriani Rusmana\n",
       "fakultas                        FITB\n",
       "nilai_mat                      53.61\n",
       "nilai_kim                      67.19\n",
       "nilai_fis                      92.57\n",
       "Name: 1936, dtype: object"
      ]
     },
     "execution_count": 3,
     "metadata": {},
     "output_type": "execute_result"
    }
   ],
   "source": [
    "datasiswa.loc[datasiswa['nilai_fis'].idxmax()]"
   ]
  },
  {
   "cell_type": "code",
   "execution_count": 26,
   "id": "eb5465a9",
   "metadata": {},
   "outputs": [
    {
     "name": "stdout",
     "output_type": "stream",
     "text": [
      "                         nama fakultas  nilai_mat  nilai_kim  nilai_fis\n",
      "1936  Yuniar Fazriani Rusmana     FITB      53.61      67.19      92.57\n"
     ]
    }
   ],
   "source": [
    "# Problem 2\n",
    "# Mahasiswa dengan nilai fisika tertinggi (kalau lebih dari 1 tampilkan semuanya)\n",
    "datasiswa['nilai_fis'].max() #cari dulu nilai maxnya berapa\n",
    "print(datasiswa.loc[datasiswa['nilai_fis'] == 92.57]) #panggil setiap siswa yang nilai fisikanya sama dengan nilai max (92.57)"
   ]
  },
  {
   "cell_type": "code",
   "execution_count": 29,
   "id": "ed160be2",
   "metadata": {},
   "outputs": [
    {
     "name": "stdout",
     "output_type": "stream",
     "text": [
      "Berikut 10 siswa dengan nilai kimia tertinggi : \n",
      "                          nama fakultas  nilai_mat  nilai_kim  nilai_fis\n",
      "2554      Faathir Reza Avicena     FTSL      57.12      81.50      78.68\n",
      "2779      Dinda A A Z Mundakir     STEI      41.18      81.34      82.60\n",
      "3544        Tammya Ayu Purnomo    SITHS      74.49      81.20      78.58\n",
      "4934    Alyssa Nadhira Windari     FTMD      78.38      78.83      78.68\n",
      "1137          Izni Nur Ibrahim     STEI      56.70      78.46      84.34\n",
      "2262      Rinaldi Oky Setiawan     STEI      71.22      77.44      83.66\n",
      "4070      Ias Azhari Rezkyarno    FMIPA      62.85      76.90      81.52\n",
      "2945           Klara Petra T T     FTSL      73.39      76.61      78.12\n",
      "1788  Naudy Germanimo Laksmana     FTMD      62.29      76.38      76.15\n",
      "1310       Mardliyahtur Rohmah     STEI      63.15      76.36      74.06\n"
     ]
    }
   ],
   "source": [
    "# Problem 3\n",
    "# 10 mahasiswa dengan nilai kimia tertinggi\n",
    "highestkim = datasiswa.sort_values([\"nilai_kim\"], ascending = [False]) [:10]\n",
    "print ('Berikut 10 siswa dengan nilai kimia tertinggi : ')\n",
    "print (highestkim)"
   ]
  },
  {
   "cell_type": "code",
   "execution_count": 32,
   "id": "fd7b6ae6",
   "metadata": {},
   "outputs": [
    {
     "name": "stdout",
     "output_type": "stream",
     "text": [
      "Banyak mahasiswa yang nilai matematikanya dibawah 50 adalah :  329\n"
     ]
    }
   ],
   "source": [
    "# Problem 4 \n",
    "# Banyaknya mahasiswa dengan nilai matematika < 50\n",
    "mtkremed = len(datasiswa.loc[datasiswa['nilai_mat'] < 50])\n",
    "print('Banyak mahasiswa yang nilai matematikanya dibawah 50 adalah : ',mtkremed)"
   ]
  },
  {
   "cell_type": "code",
   "execution_count": 35,
   "id": "d3a12461",
   "metadata": {},
   "outputs": [
    {
     "name": "stdout",
     "output_type": "stream",
     "text": [
      "Banyaknya mahasiswa FMIPA adalah :  627\n"
     ]
    }
   ],
   "source": [
    "# Problem 5\n",
    "# Banyak mahasiswa FMIPA\n",
    "fmipa = len(datasiswa.loc[datasiswa['fakultas'] == 'FMIPA'])\n",
    "print('Banyaknya mahasiswa FMIPA adalah : ',fmipa)"
   ]
  },
  {
   "cell_type": "code",
   "execution_count": null,
   "id": "a9befe26",
   "metadata": {},
   "outputs": [],
   "source": []
  },
  {
   "cell_type": "code",
   "execution_count": null,
   "id": "ee689d60",
   "metadata": {},
   "outputs": [],
   "source": []
  }
 ],
 "metadata": {
  "kernelspec": {
   "display_name": "Python 3 (ipykernel)",
   "language": "python",
   "name": "python3"
  },
  "language_info": {
   "codemirror_mode": {
    "name": "ipython",
    "version": 3
   },
   "file_extension": ".py",
   "mimetype": "text/x-python",
   "name": "python",
   "nbconvert_exporter": "python",
   "pygments_lexer": "ipython3",
   "version": "3.9.12"
  }
 },
 "nbformat": 4,
 "nbformat_minor": 5
}
